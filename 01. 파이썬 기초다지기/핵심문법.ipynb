{
  "nbformat": 4,
  "nbformat_minor": 0,
  "metadata": {
    "colab": {
      "provenance": []
    },
    "kernelspec": {
      "name": "python3",
      "display_name": "Python 3"
    },
    "language_info": {
      "name": "python"
    }
  },
  "cells": [
    {
      "cell_type": "markdown",
      "source": [
        "### 1. 반복문"
      ],
      "metadata": {
        "id": "g6PiEVbkvVzV"
      }
    },
    {
      "cell_type": "code",
      "source": [
        "from google.colab import drive\n",
        "drive.mount(\"/content/gdrive\")"
      ],
      "metadata": {
        "colab": {
          "base_uri": "https://localhost:8080/"
        },
        "id": "j_bQCHliGIMz",
        "outputId": "29f6ab4d-bd35-48ef-d26e-6da8b73317fe"
      },
      "execution_count": null,
      "outputs": [
        {
          "output_type": "stream",
          "name": "stdout",
          "text": [
            "Drive already mounted at /content/gdrive; to attempt to forcibly remount, call drive.mount(\"/content/gdrive\", force_remount=True).\n"
          ]
        }
      ]
    },
    {
      "cell_type": "code",
      "source": [
        "list ( range (0,4) )"
      ],
      "metadata": {
        "colab": {
          "base_uri": "https://localhost:8080/"
        },
        "id": "ibVSR2rkHAF2",
        "outputId": "a3787553-0f15-452d-fc3f-1fd5f013f320"
      },
      "execution_count": null,
      "outputs": [
        {
          "output_type": "execute_result",
          "data": {
            "text/plain": [
              "[0, 1, 2, 3]"
            ]
          },
          "metadata": {},
          "execution_count": 47
        }
      ]
    },
    {
      "cell_type": "code",
      "source": [
        "tvList = [\"UN40S001\",\"UN40S002\",\"UN40S003\",\"UN40S004\"]\n",
        "tvListLen = len(tvList)\n",
        "preFix = \"LEDTV_\"\n",
        "for i in range(0,tvListLen):\n",
        "    tvList[i] = preFix + tvList[i]"
      ],
      "metadata": {
        "id": "riMrzDmouM2A"
      },
      "execution_count": null,
      "outputs": []
    },
    {
      "cell_type": "code",
      "source": [
        "tvList"
      ],
      "metadata": {
        "colab": {
          "base_uri": "https://localhost:8080/"
        },
        "id": "GtVwAZ-MH2HD",
        "outputId": "9fca145c-2d76-48ec-b118-b89d2b89284d"
      },
      "execution_count": null,
      "outputs": [
        {
          "output_type": "execute_result",
          "data": {
            "text/plain": [
              "['LEDTV_UN40S001', 'LEDTV_UN40S002', 'LEDTV_UN40S003', 'LEDTV_UN40S004']"
            ]
          },
          "metadata": {},
          "execution_count": 49
        }
      ]
    },
    {
      "cell_type": "code",
      "source": [
        "tvList = [\"UN40S001\",\"UN40S002\",\"UN40S003\",\"UN40S004\"]\n",
        "tvListLen = len(tvList)"
      ],
      "metadata": {
        "id": "lyMDeFi7wtl3"
      },
      "execution_count": null,
      "outputs": []
    },
    {
      "cell_type": "code",
      "source": [
        "tvList = [\"UN40S001\",\"UN40S002\",\"UN40S003\",\"UN40S004\"]"
      ],
      "metadata": {
        "id": "rj24oouiJL3h"
      },
      "execution_count": null,
      "outputs": []
    },
    {
      "cell_type": "code",
      "source": [
        "index=0\n",
        "tvListLen = len(tvList)"
      ],
      "metadata": {
        "id": "6Q1qaaytwzy2"
      },
      "execution_count": null,
      "outputs": []
    },
    {
      "cell_type": "code",
      "source": [
        "while(index < tvListLen):\n",
        "      tvList[index] = preFix + tvList[index]\n",
        "      index = index + 1"
      ],
      "metadata": {
        "id": "JuDaqQmBIkVY"
      },
      "execution_count": null,
      "outputs": []
    },
    {
      "cell_type": "code",
      "source": [
        "tvList"
      ],
      "metadata": {
        "colab": {
          "base_uri": "https://localhost:8080/"
        },
        "id": "lNGzgDDzJmvr",
        "outputId": "20fd0d09-db88-4380-81b8-16a3e10619e2"
      },
      "execution_count": null,
      "outputs": [
        {
          "output_type": "execute_result",
          "data": {
            "text/plain": [
              "['LEDTV_UN40S001', 'LEDTV_UN40S002', 'LEDTV_UN40S003', 'LEDTV_UN40S004']"
            ]
          },
          "metadata": {},
          "execution_count": 54
        }
      ]
    },
    {
      "cell_type": "code",
      "source": [
        "# tvList2 = [ 'UN40EN001', 'UN40EN002’, 'UN40EN003', 'UN40EN004’] 리스트가 출력되도록 하세요"
      ],
      "metadata": {
        "id": "wagoq6CTOxc4"
      },
      "execution_count": null,
      "outputs": []
    },
    {
      "cell_type": "code",
      "source": [
        "tvList2 = [ 'UN40EN001', 'UN40EN002', 'UN40EN003', 'UN40EN004' ]\n",
        "tvList2Len = len(tvList2)\n",
        "for i in range(0, tvList2Len):\n",
        "    print (tvList2[i])"
      ],
      "metadata": {
        "id": "pGHThqCsxyXA",
        "colab": {
          "base_uri": "https://localhost:8080/"
        },
        "outputId": "5fb8af95-13c0-46ef-f82f-cf1807c7c78b"
      },
      "execution_count": null,
      "outputs": [
        {
          "output_type": "stream",
          "name": "stdout",
          "text": [
            "UN40EN001\n",
            "UN40EN002\n",
            "UN40EN003\n",
            "UN40EN004\n"
          ]
        }
      ]
    },
    {
      "cell_type": "markdown",
      "source": [
        "## 2. 조건문"
      ],
      "metadata": {
        "id": "ksHYZ63kyCng"
      }
    },
    {
      "cell_type": "code",
      "source": [
        "tvList = [\"LEDTV_UN40S001\",\"LEDTV_UN40S002\",\"UN40S003\",\"ULEDTV_UN40S004\",\"UN40S005\"]"
      ],
      "metadata": {
        "id": "MtRiT1if1MWW"
      },
      "execution_count": null,
      "outputs": []
    },
    {
      "cell_type": "code",
      "source": [
        "for i in range(0, tvListLen):\n",
        "    eachTvModel = tvList[i]\n",
        "    #### 코드작업 start\n",
        "\n",
        "    #### 코드작업 end\n",
        "    tvList[i] = eachTvModel"
      ],
      "metadata": {
        "id": "vR4RTEYav9rA"
      },
      "execution_count": null,
      "outputs": []
    },
    {
      "cell_type": "code",
      "source": [
        "eachTvModel = tvList[i]\n",
        "eachTvModel"
      ],
      "metadata": {
        "colab": {
          "base_uri": "https://localhost:8080/",
          "height": 35
        },
        "id": "CWeY5udPwRg3",
        "outputId": "02867e49-30ce-46f4-934e-15e786e44eb2"
      },
      "execution_count": null,
      "outputs": [
        {
          "output_type": "execute_result",
          "data": {
            "text/plain": [
              "'ULEDTV_UN40S004'"
            ],
            "application/vnd.google.colaboratory.intrinsic+json": {
              "type": "string"
            }
          },
          "metadata": {},
          "execution_count": 59
        }
      ]
    },
    {
      "cell_type": "code",
      "source": [
        "for i in range(0, tvListLen):\n",
        "    eachTvModel = tvList[i]\n",
        "    eachTvModel\n",
        "\n",
        "    #### 코드작업 start\n",
        "    ## 모델별 접두어 개수를 세어본 후 있다면 pass 없으면 제외\n",
        "    if eachTvModel.count(preFix) > 0:\n",
        "        pass\n",
        "    else:\n",
        "        eachTvModel = preFix + eachTvModel[i]\n",
        "\n",
        "    #### 코드작업 end\n",
        "    tvList[i] = eachTvModel"
      ],
      "metadata": {
        "id": "QUWIjPdpwb3b"
      },
      "execution_count": null,
      "outputs": []
    },
    {
      "cell_type": "code",
      "source": [
        "preFix = \"LEDTV_\""
      ],
      "metadata": {
        "id": "Y-RYBLZVs4kj"
      },
      "execution_count": null,
      "outputs": []
    },
    {
      "cell_type": "code",
      "source": [
        "# 반복한 아이템중에 하나를 추출한다\n",
        "eachTvModel = tvList[i]\n",
        "eachTvModel"
      ],
      "metadata": {
        "id": "FGUPQGURSUT5",
        "colab": {
          "base_uri": "https://localhost:8080/",
          "height": 35
        },
        "outputId": "3c2b18a0-5c4c-4f50-d333-e6309f93c995"
      },
      "execution_count": null,
      "outputs": [
        {
          "output_type": "execute_result",
          "data": {
            "text/plain": [
              "'ULEDTV_UN40S004'"
            ],
            "application/vnd.google.colaboratory.intrinsic+json": {
              "type": "string"
            }
          },
          "metadata": {},
          "execution_count": 62
        }
      ]
    },
    {
      "cell_type": "code",
      "source": [
        "tvListLen = len(tvList)"
      ],
      "metadata": {
        "id": "uwA_2l2euBxj"
      },
      "execution_count": null,
      "outputs": []
    },
    {
      "cell_type": "code",
      "source": [
        "for i in range(0, tvListLen):\n",
        "    # 접두어가 있다면 pass 없으면 붙이기\n",
        "    if eachTvModel.count(preFix) > 0:\n",
        "        pass\n",
        "    else:\n",
        "        eachTvModel = preFix + eachTvModel\n",
        "    eachTvModel\n",
        "    tvList[i] = eachTvModel"
      ],
      "metadata": {
        "id": "Tg0fgyfyt9xH"
      },
      "execution_count": null,
      "outputs": []
    },
    {
      "cell_type": "code",
      "source": [
        "eachTvModel.count(preFix) > 0"
      ],
      "metadata": {
        "id": "SsWpZANZSURz",
        "colab": {
          "base_uri": "https://localhost:8080/"
        },
        "outputId": "7ce7d6fd-0b8c-49f7-d8cd-3d6bbc1aba35"
      },
      "execution_count": null,
      "outputs": [
        {
          "output_type": "execute_result",
          "data": {
            "text/plain": [
              "True"
            ]
          },
          "metadata": {},
          "execution_count": 65
        }
      ]
    },
    {
      "cell_type": "code",
      "source": [
        "# 디버깅"
      ],
      "metadata": {
        "id": "LUl_Gqh4u3bS"
      },
      "execution_count": null,
      "outputs": []
    },
    {
      "cell_type": "code",
      "source": [
        "i=0"
      ],
      "metadata": {
        "id": "CwLZkJkRu59U"
      },
      "execution_count": null,
      "outputs": []
    },
    {
      "cell_type": "code",
      "source": [
        "eachTvModel = tvList[i]\n",
        "eachTvModel"
      ],
      "metadata": {
        "colab": {
          "base_uri": "https://localhost:8080/",
          "height": 35
        },
        "id": "9M6qjwnJvAGf",
        "outputId": "3ff847b2-841a-4d04-bb06-363d96cc57a3"
      },
      "execution_count": null,
      "outputs": [
        {
          "output_type": "execute_result",
          "data": {
            "text/plain": [
              "'ULEDTV_UN40S004'"
            ],
            "application/vnd.google.colaboratory.intrinsic+json": {
              "type": "string"
            }
          },
          "metadata": {},
          "execution_count": 68
        }
      ]
    },
    {
      "cell_type": "code",
      "source": [
        "eachTvModel.count(preFix)"
      ],
      "metadata": {
        "colab": {
          "base_uri": "https://localhost:8080/"
        },
        "id": "eXOcG4CjvGjd",
        "outputId": "feca8410-b767-4ab9-bf48-f6ad1bf76f6d"
      },
      "execution_count": null,
      "outputs": [
        {
          "output_type": "execute_result",
          "data": {
            "text/plain": [
              "1"
            ]
          },
          "metadata": {},
          "execution_count": 69
        }
      ]
    },
    {
      "cell_type": "code",
      "source": [
        "# 접두어가 있다면 pass 없으면 붙이기\n",
        "if eachTvModel.count(preFix) > 0:\n",
        "    pass\n",
        "else:\n",
        "    eachTvModel = preFix + eachTvModel\n",
        "eachTvModel\n",
        "tvList[i] = eachTvModel"
      ],
      "metadata": {
        "id": "CHhejUWMSUP3"
      },
      "execution_count": null,
      "outputs": []
    },
    {
      "cell_type": "code",
      "source": [],
      "metadata": {
        "id": "sOxK4zrOSUN_"
      },
      "execution_count": null,
      "outputs": []
    },
    {
      "cell_type": "code",
      "source": [
        "tvList = ['LEDTV_LEDTV_UN40EN001', 'UN40EN002', 'LEDTV_UN40EN003', 'UN40EN004']\n",
        "tvListLen = len(tvList)\n",
        "preFix = \"LEDTV_\""
      ],
      "metadata": {
        "id": "gRZdZvdjSUK1"
      },
      "execution_count": null,
      "outputs": []
    },
    {
      "cell_type": "code",
      "source": [
        "tvList[0].count(preFix)"
      ],
      "metadata": {
        "id": "2t2Ai-YOSUEn",
        "colab": {
          "base_uri": "https://localhost:8080/"
        },
        "outputId": "1aefefbd-1419-47e8-c22a-a1746411cfd8"
      },
      "execution_count": null,
      "outputs": [
        {
          "output_type": "execute_result",
          "data": {
            "text/plain": [
              "2"
            ]
          },
          "metadata": {},
          "execution_count": 72
        }
      ]
    },
    {
      "cell_type": "code",
      "source": [
        "tvList[i].count(preFix) >= 2"
      ],
      "metadata": {
        "id": "UJuVTn8dRJY4",
        "colab": {
          "base_uri": "https://localhost:8080/"
        },
        "outputId": "c6932e27-6f07-4ff5-bd78-11889a4fe66f"
      },
      "execution_count": null,
      "outputs": [
        {
          "output_type": "execute_result",
          "data": {
            "text/plain": [
              "True"
            ]
          },
          "metadata": {},
          "execution_count": 73
        }
      ]
    },
    {
      "cell_type": "code",
      "source": [
        "for i in range(0, tvListLen):\n",
        "  if tvList[i].count(preFix) >= 2:\n",
        "      tvList[i] = tvList[i].replace(preFix, '')\n",
        "      tvList[i] = preFix + tvList[i]\n",
        "  elif tvList[i].count(preFix) == 1:\n",
        "      pass\n",
        "  else:\n",
        "      tvList[i] = preFix + tvList[i]\n",
        "print(tvList)"
      ],
      "metadata": {
        "id": "EN2Orw3u2v9s",
        "colab": {
          "base_uri": "https://localhost:8080/"
        },
        "outputId": "20087b75-1cc8-4c25-d083-f5f1951c688f"
      },
      "execution_count": null,
      "outputs": [
        {
          "output_type": "stream",
          "name": "stdout",
          "text": [
            "['LEDTV_UN40EN001', 'LEDTV_UN40EN002', 'LEDTV_UN40EN003', 'LEDTV_UN40EN004']\n"
          ]
        }
      ]
    },
    {
      "cell_type": "code",
      "source": [
        "tvList = ['LEDTV_LEDTV_UN40EN001', 'UN40EN002', 'LEDTV_UN40EN003', 'UN40EN004']\n",
        "tvListLen = len(tvList)\n",
        "preFix = \"LEDTV_\"\n",
        "for i in range(0, tvListLen):\n",
        "  if tvList[i].count(preFix) >= 2:\n",
        "      tvList[i] = tvList[i].replace(preFix, '')\n",
        "      tvList[i] = preFix + tvList[i]\n",
        "  elif tvList[i].count(preFix) == 1:\n",
        "      pass\n",
        "  else:\n",
        "      tvList[i] = preFix + tvList[i]\n",
        "  print(tvList)"
      ],
      "metadata": {
        "colab": {
          "base_uri": "https://localhost:8080/"
        },
        "id": "emyLNrMpQeC4",
        "outputId": "3839639a-ca4e-4a3b-f8dc-b5d0bf6f970c"
      },
      "execution_count": null,
      "outputs": [
        {
          "output_type": "stream",
          "name": "stdout",
          "text": [
            "['LEDTV_UN40EN001', 'UN40EN002', 'LEDTV_UN40EN003', 'UN40EN004']\n",
            "['LEDTV_UN40EN001', 'LEDTV_UN40EN002', 'LEDTV_UN40EN003', 'UN40EN004']\n",
            "['LEDTV_UN40EN001', 'LEDTV_UN40EN002', 'LEDTV_UN40EN003', 'UN40EN004']\n",
            "['LEDTV_UN40EN001', 'LEDTV_UN40EN002', 'LEDTV_UN40EN003', 'LEDTV_UN40EN004']\n"
          ]
        }
      ]
    },
    {
      "cell_type": "code",
      "source": [
        "if tvList[i].count(preFix) >= 2:\n",
        "    tvList[i] = tvList[i].replace(preFix, '')\n",
        "tvList"
      ],
      "metadata": {
        "colab": {
          "base_uri": "https://localhost:8080/"
        },
        "id": "IWcPROR1RaC4",
        "outputId": "a0e6f283-a4ca-4832-ba6c-bee073c2c0a6"
      },
      "execution_count": null,
      "outputs": [
        {
          "output_type": "execute_result",
          "data": {
            "text/plain": [
              "['LEDTV_UN40EN001', 'LEDTV_UN40EN002', 'LEDTV_UN40EN003', 'LEDTV_UN40EN004']"
            ]
          },
          "metadata": {},
          "execution_count": 76
        }
      ]
    },
    {
      "cell_type": "code",
      "source": [
        "tvList = ['LEDTV_LEDTV_UN40EN001', 'UN40EN002', 'LEDTV_UN40EN003', 'UN40EN004']\n",
        "tvListLen = len(tvList)\n",
        "preFix = \"LEDTV_\"\n",
        "for i in range(0, tvListLen):\n",
        "    # 값에 접두어가 2개 이상인경우\n",
        "    if tvList[i].count(preFix) >= 2:\n",
        "        # 접두어 다 날림\n",
        "        tvList[i] = tvList[i].replace(preFix, '')\n",
        "    # 값에 접두어가 1개인경우 PASS\n",
        "    elif tvList[i].count(preFix) == 1:\n",
        "        pass\n",
        "    # 값에 접두어가 0인경우\n",
        "    else:\n",
        "        tvList[i] = preFix + tvList[i]"
      ],
      "metadata": {
        "id": "nNgWNmiuQecw"
      },
      "execution_count": null,
      "outputs": []
    },
    {
      "cell_type": "code",
      "source": [
        "tvList"
      ],
      "metadata": {
        "id": "4fyBKyyhS7U_",
        "outputId": "dbdcab5d-a9ae-43af-9786-960316dc6b04",
        "colab": {
          "base_uri": "https://localhost:8080/"
        }
      },
      "execution_count": null,
      "outputs": [
        {
          "output_type": "execute_result",
          "data": {
            "text/plain": [
              "['UN40EN001', 'LEDTV_UN40EN002', 'LEDTV_UN40EN003', 'LEDTV_UN40EN004']"
            ]
          },
          "metadata": {},
          "execution_count": 78
        }
      ]
    },
    {
      "cell_type": "code",
      "source": [],
      "metadata": {
        "id": "gjQnDS9aSdTY"
      },
      "execution_count": null,
      "outputs": []
    },
    {
      "cell_type": "code",
      "source": [],
      "metadata": {
        "id": "87ZiRTtKWSnX"
      },
      "execution_count": null,
      "outputs": []
    },
    {
      "cell_type": "code",
      "source": [],
      "metadata": {
        "id": "qgQki4wIWzyP"
      },
      "execution_count": null,
      "outputs": []
    },
    {
      "cell_type": "code",
      "source": [
        "nationList = [\"A01\",\"한국\",\"A02\",\"미국\",\"A03\",\"프랑스\"]\n",
        "natListLen = len(nationList)\n",
        "preFix = \"A\"\n",
        "for i in range(0, natListLen):\n",
        "  if nationList[i].count(preFix) == 1:\n",
        "   print(nationList[i])"
      ],
      "metadata": {
        "id": "wnYRw26MWTrV"
      },
      "execution_count": null,
      "outputs": []
    },
    {
      "cell_type": "code",
      "source": [],
      "metadata": {
        "id": "LiiZZAyS8rhe"
      },
      "execution_count": null,
      "outputs": []
    },
    {
      "cell_type": "code",
      "source": [
        "tvList2 = ['UN40EN001','LEDTV_UN40EN002','LEDTV_LEDTV_UN40EN003','ledtv_UN40EN004']\n",
        "tvList2Len = len(tvList2)\n",
        "preFix = 'LEDTV_'\n",
        "for i in range(0, tvList2Len):\n",
        "  tvList2[i] = tvList2[i].upper()\n",
        "for i in range(0, tvList2Len):\n",
        "  if tvList2[i].count(preFix) >= 2:\n",
        "      tvList2[i] = tvList2[i].replace(preFix,'')\n",
        "      tvList2[i] = preFix + tvList2[i]\n",
        "  elif tvList2[i].count(preFix) == 1:\n",
        "      pass\n",
        "  else:\n",
        "      tvList2[i] = preFix + tvList2[i]\n",
        "print(tvList2)"
      ],
      "metadata": {
        "colab": {
          "base_uri": "https://localhost:8080/"
        },
        "id": "LU8hM2B0DO7U",
        "outputId": "ce07c6e5-b5a0-4d77-ea85-816bc2bfb5b3"
      },
      "execution_count": null,
      "outputs": [
        {
          "output_type": "stream",
          "name": "stdout",
          "text": [
            "['LEDTV_UN40EN001', 'LEDTV_UN40EN002', 'LEDTV_UN40EN003', 'LEDTV_UN40EN004']\n"
          ]
        }
      ]
    },
    {
      "cell_type": "code",
      "source": [],
      "metadata": {
        "id": "lSu3IOMULJaL"
      },
      "execution_count": null,
      "outputs": []
    }
  ]
}