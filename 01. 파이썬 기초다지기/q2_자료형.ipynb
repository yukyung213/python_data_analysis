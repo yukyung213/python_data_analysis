{
  "nbformat": 4,
  "nbformat_minor": 0,
  "metadata": {
    "colab": {
      "provenance": []
    },
    "kernelspec": {
      "name": "python3",
      "display_name": "Python 3"
    },
    "language_info": {
      "name": "python"
    }
  },
  "cells": [
    {
      "cell_type": "code",
      "execution_count": null,
      "metadata": {
        "id": "Zl1hRrXRcJH7"
      },
      "outputs": [],
      "source": [
        "from google.colab import drive\n",
        "drive.mount(\"/content/gdrive\")"
      ]
    },
    {
      "cell_type": "code",
      "source": [
        "import pandas as pd"
      ],
      "metadata": {
        "id": "jFx7BwDdcXJ2"
      },
      "execution_count": null,
      "outputs": []
    },
    {
      "cell_type": "code",
      "source": [
        "%cd /content/gdrive/MyDrive/Colab Notebooks/stdcode2024/Session01_파이썬기초"
      ],
      "metadata": {
        "colab": {
          "base_uri": "https://localhost:8080/"
        },
        "id": "P5a5HcfqdFCe",
        "outputId": "5be582fb-ac0b-4af9-9149-bedbfcb784e9"
      },
      "execution_count": null,
      "outputs": [
        {
          "output_type": "stream",
          "name": "stdout",
          "text": [
            "/content/gdrive/MyDrive/Colab Notebooks/stdcode2024/Session01_파이썬기초\n"
          ]
        }
      ]
    },
    {
      "cell_type": "code",
      "source": [
        "pwd"
      ],
      "metadata": {
        "colab": {
          "base_uri": "https://localhost:8080/",
          "height": 35
        },
        "id": "cd64djKTcyFv",
        "outputId": "d8f8c940-ae6d-4c5c-da9a-61a81821127e"
      },
      "execution_count": null,
      "outputs": [
        {
          "output_type": "execute_result",
          "data": {
            "text/plain": [
              "'/content/gdrive/MyDrive/Colab Notebooks/stdcode2024/Session01_파이썬기초'"
            ],
            "application/vnd.google.colaboratory.intrinsic+json": {
              "type": "string"
            }
          },
          "metadata": {},
          "execution_count": 31
        }
      ]
    },
    {
      "cell_type": "code",
      "source": [
        "csData = pd.read_csv(\"../dataset/kopo_customerdata.csv\")"
      ],
      "metadata": {
        "id": "ecmkIUrQcjXH"
      },
      "execution_count": null,
      "outputs": []
    },
    {
      "cell_type": "code",
      "source": [
        "amountList = csData.TOTAL_AMOUNT.tolist()"
      ],
      "metadata": {
        "id": "zuZda45bc_QW"
      },
      "execution_count": null,
      "outputs": []
    },
    {
      "cell_type": "code",
      "source": [
        "### 1. 최소값 최대값 추출"
      ],
      "metadata": {
        "id": "u-P7ERqnpKmL"
      },
      "execution_count": null,
      "outputs": []
    },
    {
      "cell_type": "code",
      "source": [
        "minValue = min ( amountList )\n",
        "maxValue = max ( amountList)\n",
        "print(minValue, maxValue)"
      ],
      "metadata": {
        "colab": {
          "base_uri": "https://localhost:8080/"
        },
        "id": "6epjTeUDpNqt",
        "outputId": "ed3e19b4-47fa-4e98-9d52-f94915e0c191"
      },
      "execution_count": null,
      "outputs": [
        {
          "output_type": "stream",
          "name": "stdout",
          "text": [
            "0 3103500\n"
          ]
        }
      ]
    },
    {
      "cell_type": "code",
      "source": [
        "### 2. 최소값 최대값 개수를 추출"
      ],
      "metadata": {
        "id": "GrbcyBompc_z"
      },
      "execution_count": null,
      "outputs": []
    },
    {
      "cell_type": "code",
      "source": [
        "minValueCnt = amountList.count(minValue)\n",
        "maxValueCnt = amountList.count(maxValue)\n",
        "print(minValueCnt, maxValueCnt)"
      ],
      "metadata": {
        "colab": {
          "base_uri": "https://localhost:8080/"
        },
        "id": "Old8GuHcp84y",
        "outputId": "c873f3f6-611b-49b6-9e86-e3d9c8878cf0"
      },
      "execution_count": null,
      "outputs": [
        {
          "output_type": "stream",
          "name": "stdout",
          "text": [
            "256 1\n"
          ]
        }
      ]
    },
    {
      "cell_type": "code",
      "source": [
        "### 3. 평균값계산"
      ],
      "metadata": {
        "id": "-xs0zI71pgtT"
      },
      "execution_count": null,
      "outputs": []
    },
    {
      "cell_type": "code",
      "source": [
        "# 평균계산"
      ],
      "metadata": {
        "id": "SmQtMBbPphlT"
      },
      "execution_count": null,
      "outputs": []
    },
    {
      "cell_type": "code",
      "source": [
        "bunmo = sum(amountList) - (min)"
      ],
      "metadata": {
        "id": "bnhiMMj_phrL",
        "outputId": "1c81d9f9-362a-43b4-a17b-1a978eb223cc",
        "colab": {
          "base_uri": "https://localhost:8080/",
          "height": 147
        }
      },
      "execution_count": null,
      "outputs": [
        {
          "output_type": "error",
          "ename": "TypeError",
          "evalue": "unsupported operand type(s) for -: 'int' and 'builtin_function_or_method'",
          "traceback": [
            "\u001b[0;31m---------------------------------------------------------------------------\u001b[0m",
            "\u001b[0;31mTypeError\u001b[0m                                 Traceback (most recent call last)",
            "\u001b[0;32m<ipython-input-40-ce1b9c529e65>\u001b[0m in \u001b[0;36m<cell line: 1>\u001b[0;34m()\u001b[0m\n\u001b[0;32m----> 1\u001b[0;31m \u001b[0mbunmo\u001b[0m \u001b[0;34m=\u001b[0m \u001b[0msum\u001b[0m\u001b[0;34m(\u001b[0m\u001b[0mamountList\u001b[0m\u001b[0;34m)\u001b[0m \u001b[0;34m-\u001b[0m \u001b[0;34m(\u001b[0m\u001b[0mmin\u001b[0m\u001b[0;34m)\u001b[0m\u001b[0;34m\u001b[0m\u001b[0;34m\u001b[0m\u001b[0m\n\u001b[0m",
            "\u001b[0;31mTypeError\u001b[0m: unsupported operand type(s) for -: 'int' and 'builtin_function_or_method'"
          ]
        }
      ]
    },
    {
      "cell_type": "code",
      "source": [],
      "metadata": {
        "id": "CN0nRGcAphxw"
      },
      "execution_count": null,
      "outputs": []
    },
    {
      "cell_type": "code",
      "source": [
        "import pandas as pd"
      ],
      "metadata": {
        "id": "r812eHYyOz2A"
      },
      "execution_count": null,
      "outputs": []
    },
    {
      "cell_type": "code",
      "source": [
        "%cd /content/gdrive/MyDrive/Colab Notebooks/stdcode2024/Session01_파이썬기초"
      ],
      "metadata": {
        "id": "vhE121MmO_LS"
      },
      "execution_count": null,
      "outputs": []
    },
    {
      "cell_type": "code",
      "source": [
        "customerData = pd.read_csv(\"../dataset/kopo_customerdata.csv\")\n",
        "customerData"
      ],
      "metadata": {
        "id": "_JPJFX1tO4Sx"
      },
      "execution_count": null,
      "outputs": []
    },
    {
      "cell_type": "code",
      "source": [
        "customerTotalList = customerData.[TOTAL_AMOUNT].tolist()"
      ],
      "metadata": {
        "id": "XXnIZRjeO4nS"
      },
      "execution_count": null,
      "outputs": []
    },
    {
      "cell_type": "code",
      "source": [],
      "metadata": {
        "id": "GYpT1VciPl_h"
      },
      "execution_count": null,
      "outputs": []
    }
  ]
}