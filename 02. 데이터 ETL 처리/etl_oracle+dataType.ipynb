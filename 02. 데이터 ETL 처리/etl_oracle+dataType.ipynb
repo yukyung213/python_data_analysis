{
 "cells": [
  {
   "cell_type": "code",
   "execution_count": 97,
   "id": "4d925c67-69dd-4164-bfb0-f2aa25985827",
   "metadata": {},
   "outputs": [],
   "source": [
    "# oracle을 사용하기 위해 cx_Oracle 설치\n",
    "# pip install cx_Oracle"
   ]
  },
  {
   "cell_type": "code",
   "execution_count": 17,
   "id": "3e231f72-6426-4add-bb66-0342febe1a07",
   "metadata": {},
   "outputs": [],
   "source": [
    "import cx_Oracle\n",
    "import pandas as pd\n",
    "from sqlalchemy import create_engine, types"
   ]
  },
  {
   "cell_type": "code",
   "execution_count": 18,
   "id": "142af28e-2b37-432e-95af-92b4cfaf0089",
   "metadata": {},
   "outputs": [],
   "source": [
    "dbPrefix = \"oracle+cx_oracle\"\n",
    "dbId = \"kopo\"\n",
    "dbPw = \"kopo\"\n",
    "dbIp = \"192.168.110.112\"\n",
    "dbPort = \"1521\"\n",
    "dbName = \"orcl\""
   ]
  },
  {
   "cell_type": "code",
   "execution_count": 19,
   "id": "08e4a4d0-932b-4923-b051-8e90f4ce6652",
   "metadata": {},
   "outputs": [],
   "source": [
    "pgEngine = create_engine(f\"{dbPrefix}://{dbId}:{dbPw}@{dbIp}:{dbPort}/{dbName}\")"
   ]
  },
  {
   "cell_type": "code",
   "execution_count": 20,
   "id": "087420ea-5c91-4dfc-91d8-c2dc05137fdd",
   "metadata": {},
   "outputs": [],
   "source": [
    "tableName = [\"회원정보테이블\", \"광고메인테이블\", \"키워드관리테이블\", \"광고주정보테이블\"]"
   ]
  },
  {
   "cell_type": "code",
   "execution_count": 21,
   "id": "486c10d3-25d9-4f0b-886d-7fad55300614",
   "metadata": {},
   "outputs": [],
   "source": [
    "for i in tableName:\n",
    "    selSelect = \"\"\"\n",
    "    SELECT *\n",
    "    FROM {}\n",
    "    \"\"\".format(i)\n",
    "\n",
    "    indata = pd.read_sql_query(selSelect, pgEngine)\n",
    "    tableName = i\n",
    "    tableName = tableName.lower()\n",
    "    \n",
    "    #### 문자컬럼에 대해서 varchar (100) 적용 _ 사용시 속도 SpeedUp 50배\n",
    "    # objectColumns = list(indata.columns[indata.dtypes == 'object'])\n",
    "    allColumns = list(indata.columns[:])\n",
    "    \n",
    "    typeDict={}\n",
    "    maxLen = 100\n",
    "    \n",
    "    for column in allColumns:\n",
    "        if indata[column].dtype == 'float64':\n",
    "            typeDict[column] = types.FLOAT\n",
    "        elif indata[column].dtype == 'int64':\n",
    "            typeDict[column] = types.NUMERIC\n",
    "        else:\n",
    "            typeDict[column] = types.VARCHAR(100) \n",
    "    \n",
    "    dbPrefix = \"oracle+cx_oracle\"\n",
    "    dbId = \"yukyung\"\n",
    "    dbPw = \"yukyung\"\n",
    "    dbIp = \"192.168.110.111\"\n",
    "    dbPort = \"1521\"\n",
    "    dbName = \"orcl\"    \n",
    "    engineLocal = create_engine(f\"{dbPrefix}://{dbId}:{dbPw}@{dbIp}:{dbPort}/{dbName}\")\n",
    "    \n",
    "    indata.to_sql(name=tableName, if_exists=\"replace\", con=pgEngineLocal,dtype=typeDict, index=False)"
   ]
  },
  {
   "cell_type": "code",
   "execution_count": null,
   "id": "b86061f6-73be-44e9-ab86-051542bdfa29",
   "metadata": {},
   "outputs": [],
   "source": []
  }
 ],
 "metadata": {
  "kernelspec": {
   "display_name": "Python 3 (ipykernel)",
   "language": "python",
   "name": "python3"
  },
  "language_info": {
   "codemirror_mode": {
    "name": "ipython",
    "version": 3
   },
   "file_extension": ".py",
   "mimetype": "text/x-python",
   "name": "python",
   "nbconvert_exporter": "python",
   "pygments_lexer": "ipython3",
   "version": "3.10.11"
  }
 },
 "nbformat": 4,
 "nbformat_minor": 5
}
