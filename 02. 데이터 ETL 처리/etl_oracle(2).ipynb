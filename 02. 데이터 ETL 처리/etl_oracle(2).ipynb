{
 "cells": [
  {
   "cell_type": "code",
   "execution_count": 13,
   "id": "fc308045-fe6f-4683-9ce5-a78e7b27c25e",
   "metadata": {},
   "outputs": [],
   "source": [
    "import pandas as pd\n",
    "import os\n",
    "import psycopg2\n",
    "import cx_Oracle\n",
    "from sqlalchemy import create_engine, types"
   ]
  },
  {
   "cell_type": "code",
   "execution_count": 14,
   "id": "285d9426-9ced-4251-add5-45816a6454d1",
   "metadata": {},
   "outputs": [],
   "source": [
    "targetFolder = \"../dataset2\""
   ]
  },
  {
   "cell_type": "code",
   "execution_count": 15,
   "id": "4e41bed6-5cd1-4ae1-a5a5-c58fb9aa1ef2",
   "metadata": {},
   "outputs": [
    {
     "data": {
      "text/plain": [
       "['CHEON.csv',\n",
       " 'CHESUNGBUN.csv',\n",
       " 'CHOLESTEROL.csv',\n",
       " 'GOMILDO_CHOLESTEROL.csv',\n",
       " 'HYULAP.csv',\n",
       " 'HYULDANG.csv',\n",
       " 'JEOMILDO_CHOLESTEROL.csv',\n",
       " 'JUNGSUNGJIBANG.csv',\n",
       " 'PEEUM.csv',\n",
       " 'SANSOPOHWADO.csv',\n",
       " 'SIMBAKSU.csv',\n",
       " 'SIMJANGEUM.csv']"
      ]
     },
     "execution_count": 15,
     "metadata": {},
     "output_type": "execute_result"
    }
   ],
   "source": [
    "# os.listdir(폴더명): 폴더에 있는 파일 목록 리스트로 전환\n",
    "fileList = os.listdir(targetFolder)\n",
    "fileList"
   ]
  },
  {
   "cell_type": "code",
   "execution_count": 16,
   "id": "27d06af2-a878-4c6a-8e9b-d8b27ddf1ea6",
   "metadata": {},
   "outputs": [],
   "source": [
    "dbPrefix = \"oracle+cx_oracle\"\n",
    "dbId = \"yukyung\"\n",
    "dbPw = \"yukyung\"\n",
    "dbIp = \"192.168.110.111\"\n",
    "dbPort = \"1521\"\n",
    "dbName = \"orcl\""
   ]
  },
  {
   "cell_type": "code",
   "execution_count": 17,
   "id": "85de40fb-c0ea-4a89-8091-849a85ed1f6e",
   "metadata": {},
   "outputs": [],
   "source": [
    "# engine: 저장할 DB 변수에 저장\n",
    "engine = create_engine(f\"{dbPrefix}://{dbId}:{dbPw}@{dbIp}:{dbPort}/{dbName}\")"
   ]
  },
  {
   "cell_type": "code",
   "execution_count": 18,
   "id": "3ba296b3-bae8-4ccd-9e11-a5171ee1f71c",
   "metadata": {},
   "outputs": [],
   "source": [
    "# for: 반복문으로 csv 파일 전체 호출한 후 DB 저장\n",
    "for i in fileList:\n",
    "    ## inDataset2: 파일 경로 변수에 저장\n",
    "    inDataset2 = \"../dataset2/{}\".format(i)\n",
    "    ## inDataset2Name: 파일명에 붙일 문자열 변수에 저장\n",
    "    inDataset2Name = \"_KIMYUKYUNG\"\n",
    "    \n",
    "    ## if: 확장자명 '.csv'로 끝날 경우에만 파일 호출\n",
    "    if i[-4:] == \".csv\":\n",
    "        ### indataName: 파일명(확장자명 제거한 파일명 + 파일명에 붙일 문자열) 변수에 저장\n",
    "        indataName = i[:-4] + inDataset2Name\n",
    "        ### encoding='UTF-8': 한글 인코딩\n",
    "        indata = pd.read_csv(inDataset2, encoding='UTF-8')\n",
    "    else:\n",
    "        pass\n",
    "    \n",
    "    ## tableName: DB에 저장할 테이블명 변수에 저장\n",
    "    ## .lower(): 데이터 이관시 대조(if_exists=\"replace\")를 위해 적용 \n",
    "    tableName = indataName.lower()  \n",
    "    ## allColumns: 파일 컬럼 목록 리스트로 변수에 저장\n",
    "    allColumns = list(indata.columns[:])\n",
    "\n",
    "    ## typeDict: 파일 데이터 형변환을 위해 dictionary 생성\n",
    "    typeDict={}\n",
    "    floatNum = 'float64'\n",
    "    intNum = 'int64'\n",
    "    maxLen = 100\n",
    "\n",
    "    ## for: 반복문으로 csv 파일 데이터 형변환\n",
    "    ### types.NUMERIC: module 'sqlalchemy.types' has no attribute 'NUMBER'\n",
    "    for column in allColumns:\n",
    "        if indata[column].dtype == floatNum:\n",
    "            typeDict[column] = types.FLOAT\n",
    "        elif indata[column].dtype == intNum:\n",
    "            typeDict[column] = types.NUMERIC\n",
    "        else:\n",
    "            typeDict[column] = types.VARCHAR(maxLen)\n",
    "\n",
    "    indata.to_sql(name=tableName,\n",
    "                  if_exists=\"replace\",\n",
    "                  con=engine,\n",
    "                  dtype=typeDict,\n",
    "                  index=False)"
   ]
  }
 ],
 "metadata": {
  "kernelspec": {
   "display_name": "Python 3 (ipykernel)",
   "language": "python",
   "name": "python3"
  },
  "language_info": {
   "codemirror_mode": {
    "name": "ipython",
    "version": 3
   },
   "file_extension": ".py",
   "mimetype": "text/x-python",
   "name": "python",
   "nbconvert_exporter": "python",
   "pygments_lexer": "ipython3",
   "version": "3.10.11"
  }
 },
 "nbformat": 4,
 "nbformat_minor": 5
}
